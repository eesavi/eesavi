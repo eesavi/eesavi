{
 "cells": [
  {
   "cell_type": "code",
   "execution_count": 4,
   "metadata": {
    "scrolled": true
   },
   "outputs": [
    {
     "name": "stdout",
     "output_type": "stream",
     "text": [
      "введите строку drgr\n",
      "введите число1 4\n",
      "введите число2 5\n",
      "drgr20\n"
     ]
    }
   ],
   "source": [
    "#Получите через input 3 переменные - строку и два числа. Выведите в одну переменную объединённую строку, из введённой строки и произведения двух чисел\n",
    "a = input(\"введите строку \")\n",
    "b = int(input(\"введите число1 \"))\n",
    "c = int(input(\"введите число2 \"))\n",
    "d = b*c\n",
    "f = a + str(d)\n",
    "print(f)"
   ]
  }
 ],
 "metadata": {
  "kernelspec": {
   "display_name": "Python 3",
   "language": "python",
   "name": "python3"
  },
  "language_info": {
   "codemirror_mode": {
    "name": "ipython",
    "version": 3
   },
   "file_extension": ".py",
   "mimetype": "text/x-python",
   "name": "python",
   "nbconvert_exporter": "python",
   "pygments_lexer": "ipython3",
   "version": "3.8.1"
  }
 },
 "nbformat": 4,
 "nbformat_minor": 4
}
