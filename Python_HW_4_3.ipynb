{
 "cells": [
  {
   "cell_type": "code",
   "execution_count": 4,
   "metadata": {
    "scrolled": true
   },
   "outputs": [
    {
     "name": "stdout",
     "output_type": "stream",
     "text": [
      "первое число: 3\n",
      "второе число: 5\n",
      "произведение чисел 1 и 1 = 1\n",
      "произведение чисел 1 и 2 = 2\n",
      "произведение чисел 1 и 3 = 3\n",
      "произведение чисел 1 и 4 = 4\n",
      "произведение чисел 1 и 5 = 5\n",
      "произведение чисел 2 и 1 = 2\n",
      "произведение чисел 2 и 2 = 4\n",
      "произведение чисел 2 и 3 = 6\n",
      "произведение чисел 2 и 4 = 8\n",
      "произведение чисел 2 и 5 = 10\n",
      "произведение чисел 3 и 1 = 3\n",
      "произведение чисел 3 и 2 = 6\n",
      "произведение чисел 3 и 3 = 9\n",
      "произведение чисел 3 и 4 = 12\n",
      "произведение чисел 3 и 5 = 15\n"
     ]
    }
   ],
   "source": [
    "#ПВведите числа n и m, выведите произведения всех возможных пар чисел от 1 до n и от 1 до m\n",
    "#\n",
    "n = int(input(\"первое число: \"))\n",
    "m = int(input(\"второе число: \"))\n",
    "for i in range(1,n+1):\n",
    "    for j in range(1,m+1):\n",
    "        print(\"произведение чисел\", i, \"и\", j, \"=\", i*j)"
   ]
  }
 ],
 "metadata": {
  "kernelspec": {
   "display_name": "Python 3",
   "language": "python",
   "name": "python3"
  },
  "language_info": {
   "codemirror_mode": {
    "name": "ipython",
    "version": 3
   },
   "file_extension": ".py",
   "mimetype": "text/x-python",
   "name": "python",
   "nbconvert_exporter": "python",
   "pygments_lexer": "ipython3",
   "version": "3.8.1"
  }
 },
 "nbformat": 4,
 "nbformat_minor": 4
}
