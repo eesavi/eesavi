{
 "cells": [
  {
   "cell_type": "code",
   "execution_count": 4,
   "metadata": {},
   "outputs": [
    {
     "name": "stdout",
     "output_type": "stream",
     "text": [
      "введите строку1 aewg\n",
      "введите строку2 asdf\n",
      "aewgasdf\n"
     ]
    }
   ],
   "source": [
    "#Получите от пользователя через input две строки и выведите их последовательно\n",
    "\n",
    "l1 = input(\"введите строку1 \") \n",
    "l2 = input (\"введите строку2 \")\n",
    "print (l1, l2, sep = '')"
   ]
  }
 ],
 "metadata": {
  "kernelspec": {
   "display_name": "Python 3",
   "language": "python",
   "name": "python3"
  },
  "language_info": {
   "codemirror_mode": {
    "name": "ipython",
    "version": 3
   },
   "file_extension": ".py",
   "mimetype": "text/x-python",
   "name": "python",
   "nbconvert_exporter": "python",
   "pygments_lexer": "ipython3",
   "version": "3.8.1"
  }
 },
 "nbformat": 4,
 "nbformat_minor": 4
}