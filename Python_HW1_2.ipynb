{
 "cells": [
  {
   "cell_type": "code",
   "execution_count": 5,
   "metadata": {},
   "outputs": [
    {
     "name": "stdout",
     "output_type": "stream",
     "text": [
      "длина прямоугольника: 1\n",
      "ширина прямоугольника: 1\n",
      "Площадь прямоугольника со сторонами 1.0 и 1.0 равна 1.0\n"
     ]
    }
   ],
   "source": [
    "#Сделайте расчёт площади прямоугольника по двум заданным сторонам (произведение длин сторон), размеры сторон задайте самостоятельно в коде в переменные\n",
    "a = float(input(\"длина прямоугольника: \"))\n",
    "b = float(input(\"ширина прямоугольника: \"))\n",
    "S = a*b\n",
    "print(\"Площадь прямоугольника со сторонами\", a, \"и\", b, \"равна\", S)"
   ]
  }
 ],
 "metadata": {
  "kernelspec": {
   "display_name": "Python 3",
   "language": "python",
   "name": "python3"
  },
  "language_info": {
   "codemirror_mode": {
    "name": "ipython",
    "version": 3
   },
   "file_extension": ".py",
   "mimetype": "text/x-python",
   "name": "python",
   "nbconvert_exporter": "python",
   "pygments_lexer": "ipython3",
   "version": "3.8.1"
  }
 },
 "nbformat": 4,
 "nbformat_minor": 4
}