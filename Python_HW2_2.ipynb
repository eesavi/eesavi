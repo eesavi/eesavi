{
 "cells": [
  {
   "cell_type": "code",
   "execution_count": 3,
   "metadata": {
    "scrolled": true
   },
   "outputs": [
    {
     "name": "stdout",
     "output_type": "stream",
     "text": [
      "Название переменной параметр\n",
      "Числовое значение1 3\n",
      "Числовое значение2 4\n",
      "Переменная параметр равна 12\n"
     ]
    }
   ],
   "source": [
    "#Получите три строки через ipnut, первая - название переменной, \n",
    "#вторая и третья - два чиловых значение. \n",
    "#Запишите в переменную произведение этих числовых значений и выведите в ячейке: \n",
    "#\"Переменная {навзание переменной} равна {значение переменной}\"\n",
    "a = input(\"Название переменной \")\n",
    "b = int(input(\"Числовое значение1 \"))\n",
    "c = int(input(\"Числовое значение2 \"))\n",
    "d = b*c\n",
    "print(\"Переменная\", a, \"равна\", d)"
   ]
  },
  {
   "cell_type": "code",
   "execution_count": null,
   "metadata": {},
   "outputs": [],
   "source": []
  }
 ],
 "metadata": {
  "kernelspec": {
   "display_name": "Python 3",
   "language": "python",
   "name": "python3"
  },
  "language_info": {
   "codemirror_mode": {
    "name": "ipython",
    "version": 3
   },
   "file_extension": ".py",
   "mimetype": "text/x-python",
   "name": "python",
   "nbconvert_exporter": "python",
   "pygments_lexer": "ipython3",
   "version": "3.8.1"
  }
 },
 "nbformat": 4,
 "nbformat_minor": 4
}
