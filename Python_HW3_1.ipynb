{
 "cells": [
  {
   "cell_type": "code",
   "execution_count": 11,
   "metadata": {
    "scrolled": true
   },
   "outputs": [
    {
     "name": "stdout",
     "output_type": "stream",
     "text": [
      "размер базы данных 15\n",
      "процент пропусков в данных (число от 0 до 1) 0.4\n",
      "время обучения сети на одну единицу данных 1\n",
      "Обучаем\n"
     ]
    }
   ],
   "source": [
    "#Получите через input переменные - размер базы данных, процент пропусков в данных (число от 0 до 1) \n",
    "#и время обучения сети на одну единицу данных. Надо решить, обучаем сеть или нет. Вот критерии, когда мы НЕ обучаем сеть:\n",
    "#Валидных даных меньше 10.000 (всего данных умножить на процент данных, где нет пропусков)\n",
    "#Процент пропусков более 12%\n",
    "#Суммарное время бучения нейронки более 1 дня (количество валидных данных умноижть на время обучения на одних данных)\n",
    "a = int(input(\"размер базы данных \"))\n",
    "b = float(input(\"процент пропусков в данных (число от 0 до 1) \"))\n",
    "c = float(input(\"время обучения сети на одну единицу данных \"))\n",
    "if (a<10.000 and b>0.12 and (a*c)>1) == 1:\n",
    "    print (\"Не обучаем\")\n",
    "else:\n",
    "    print (\"Обучаем\")"
   ]
  },
  {
   "cell_type": "code",
   "execution_count": null,
   "metadata": {},
   "outputs": [],
   "source": []
  }
 ],
 "metadata": {
  "kernelspec": {
   "display_name": "Python 3",
   "language": "python",
   "name": "python3"
  },
  "language_info": {
   "codemirror_mode": {
    "name": "ipython",
    "version": 3
   },
   "file_extension": ".py",
   "mimetype": "text/x-python",
   "name": "python",
   "nbconvert_exporter": "python",
   "pygments_lexer": "ipython3",
   "version": "3.8.1"
  }
 },
 "nbformat": 4,
 "nbformat_minor": 4
}
